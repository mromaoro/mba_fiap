{
  "cells": [
    {
      "cell_type": "markdown",
      "metadata": {
        "id": "view-in-github",
        "colab_type": "text"
      },
      "source": [
        "<a href=\"https://colab.research.google.com/github/mromaoro/mba_fiap/blob/main/Como_aproveitar_ao_m%C3%A1ximo_sua_assinatura_do_Colab.ipynb\" target=\"_parent\"><img src=\"https://colab.research.google.com/assets/colab-badge.svg\" alt=\"Open In Colab\"/></a>"
      ]
    },
    {
      "cell_type": "markdown",
      "metadata": {
        "id": "SKQ4bH7qMGrA"
      },
      "source": [
        "# Como aproveitar ao máximo sua assinatura do Colab\n",
        "\n"
      ]
    },
    {
      "cell_type": "markdown",
      "metadata": {
        "id": "QMMqmdiYMkvi"
      },
      "source": [
        "## GPUs mais rápidas\n",
        "\n",
        "<p>Os usuários que compraram um dos planos pagos do Colab têm acesso a GPUs premium. É possível fazer upgrade das configurações de GPU do notebook em <code>Runtime &gt; Change runtime type</code> no menu para ativar o acelerador Premium. Sujeito à disponibilidade, ao selecionar uma GPU premium, talvez você ganhe acesso a uma GPU Nvidia V100 ou A100.</p>\n",
        "<p>A versão sem custo financeiro do Colab dá acesso às GPUs T4 da Nvidia, sujeito a restrições de cota e disponibilidade.</p>\n",
        "\n",
        "É possível ver qual é a GPU atribuída a qualquer momento, executando a célula a seguir. Se o resultado da execução da célula de código abaixo for \"Not connected to a GPU\", mude o ambiente. Acesse <code>Runtime &gt; Change runtime type</code> no menu para ativar um acelerador de GPU, depois execute novamente a célula de código."
      ]
    },
    {
      "cell_type": "code",
      "execution_count": null,
      "metadata": {
        "id": "23TOba33L4qf"
      },
      "outputs": [],
      "source": [
        "gpu_info = !nvidia-smi\n",
        "gpu_info = '\\n'.join(gpu_info)\n",
        "if gpu_info.find('failed') >= 0:\n",
        "  print('Not connected to a GPU')\n",
        "else:\n",
        "  print(gpu_info)"
      ]
    },
    {
      "cell_type": "markdown",
      "metadata": {
        "id": "Sa-IrJS1aRVJ"
      },
      "source": [
        "Para usar uma GPU com seu notebook, selecione o menu <code>Runtime &gt; Change runtime type</code> e configure a lista suspensa de acelerador de hardware para GPU."
      ]
    },
    {
      "cell_type": "markdown",
      "metadata": {
        "id": "65MSuHKqNeBZ"
      },
      "source": [
        "## Mais memória\n",
        "\n",
        "Os usuários que compraram um dos planos pagos do Colab têm acesso a VMs de alta memória quando estão disponíveis.\n",
        "É possível ver quanta memória há disponível a qualquer momento, executando a célula de código. Se o resultado da execução da célula de código abaixo for \"Not using a high-RAM runtime\", ative um ambiente com RAM alta. Acesse <code>Runtime &gt; Change runtime type</code> no menu. Depois selecione \"RAM alta\" no menu suspenso \"Características do ambiente de execução\". Por fim, execute a célula de código novamente."
      ]
    },
    {
      "cell_type": "code",
      "execution_count": null,
      "metadata": {
        "id": "V1G82GuO-tez"
      },
      "outputs": [],
      "source": [
        "from psutil import virtual_memory\n",
        "ram_gb = virtual_memory().total / 1e9\n",
        "print('Your runtime has {:.1f} gigabytes of available RAM\\n'.format(ram_gb))\n",
        "\n",
        "if ram_gb < 20:\n",
        "  print('Not using a high-RAM runtime')\n",
        "else:\n",
        "  print('You are using a high-RAM runtime!')"
      ]
    },
    {
      "cell_type": "markdown",
      "metadata": {
        "id": "BJW8Qi-pPpep"
      },
      "source": [
        "## Ambientes de execução com maior duração\n",
        "\n",
        "Todos os ambientes de execução do Colab são redefinidos depois de um período, que é menor se o ambiente não estiver executando código. Os usuários do Colab Pro e Pro+ têm acesso a ambientes de execução mais longos do que os que usam o Colab sem custo financeiro.\n",
        "\n",
        "## Execução em segundo plano\n",
        "\n",
        "Os usuários do Colab Pro+ têm acesso à execução em segundo plano, em que os notebooks continuam em execução mesmo depois que você fecha a guia do navegador. Isso sempre vai ser ativado nos ambientes de execução do Pro+, desde que você tenha unidades de computação disponíveis.\n"
      ]
    },
    {
      "cell_type": "markdown",
      "metadata": {
        "id": "uLlTRcMM_h0k"
      },
      "source": [
        "## Relaxar os limites de recursos no Colab Pro\n",
        "\n",
        "Seus recursos no Colab não são ilimitados. Para aproveitar o Colab ao máximo, evite usar recursos quando não precisar. Por exemplo, só use uma GPU quando necessário e feche as guias do Colab quando terminar.\n",
        "\n",
        "Ao se deparar com limitações, elas podem ser relaxadas comprando mais unidades de computação pelo pagamento por utilização. Qualquer pessoa pode comprar unidades de computação pelo <a href=\"https://colab.research.google.com/signup\">pagamento por utilização</a>. Não é necessário ter uma assinatura."
      ]
    },
    {
      "cell_type": "markdown",
      "metadata": {
        "id": "mm8FzEidvPs6"
      },
      "source": [
        "## Envie feedback!\n",
        "\n",
        "<p>Se quiser enviar comentários, fale com a gente. A melhor forma de fazer isso é no menu Ajuda &gt; Enviar feedback. Se você encontrar limites de uso no Colab Pro, considere assinar o Pro+.</p>\n",
        "<p>Se você encontrar erros ou outros problemas de faturamento &#40;pagamentos&#41; no Colab Pro, Pro+ ou pagamento por utilização, envie um e-mail para <a href=\"mailto:colab-billing@google.com\">colab-billing@google.com</a>.</p>"
      ]
    },
    {
      "cell_type": "markdown",
      "metadata": {
        "id": "qB3bdLe8jkAa"
      },
      "source": [
        "## Mais recursos\n",
        "\n",
        "### Como trabalhar com Notebooks no Colab\n",
        "- [Visão geral do Colaboratory](/notebooks/basic_features_overview.ipynb)\n",
        "- [Guia sobre Markdown](/notebooks/markdown_guide.ipynb)\n",
        "- [Importar bibliotecas e instalar dependências](/notebooks/snippets/importing_libraries.ipynb)\n",
        "- [Salvar e carregar notebooks no GitHub](https://colab.research.google.com/github/googlecolab/colabtools/blob/main/notebooks/colab-github-demo.ipynb)\n",
        "- [Formulários interativos](/notebooks/forms.ipynb)\n",
        "- [Widgets interativos](/notebooks/widgets.ipynb)\n",
        "\n",
        "<a name=\"working-with-data\"></a>\n",
        "### Como trabalhar com dados\n",
        "- [Carregar dados: Drive, Planilhas e Google Cloud Storage](/notebooks/io.ipynb)\n",
        "- [Gráficos: visualizar dados](/notebooks/charts.ipynb)\n",
        "- [Começar a usar o BigQuery](/notebooks/bigquery.ipynb)\n",
        "\n",
        "### Curso intensivo de machine learning\n",
        "Estes são alguns notebooks do curso on-line do Google sobre machine learning. Acesse o <a href=\"https://developers.google.com/machine-learning/crash-course/\">site do curso completo</a> para saber mais.\n",
        "- [Introdução ao Pandas DataFrame](https://colab.research.google.com/github/google/eng-edu/blob/main/ml/cc/exercises/pandas_dataframe_ultraquick_tutorial.ipynb)\n",
        "- [Regressão linear com tf.keras e uso de dados sintéticos](https://colab.research.google.com/github/google/eng-edu/blob/main/ml/cc/exercises/linear_regression_with_synthetic_data.ipynb)\n",
        "\n",
        "\n",
        "<a name=\"using-accelerated-hardware\"></a>\n",
        "### Usar hardware acelerado\n",
        "- [TensorFlow com GPUs](/notebooks/gpu.ipynb)\n",
        "- [TensorFlow com TPUs](/notebooks/tpu.ipynb)"
      ]
    },
    {
      "cell_type": "markdown",
      "metadata": {
        "id": "RFm2S0Gijqo8"
      },
      "source": [
        "<a name=\"machine-learning-examples\"></a>\n",
        "\n",
        "## Exemplos de machine learning\n",
        "\n",
        "Para ver exemplos completos das análises interativas de machine learning possibilitadas pelo Colaboratory, confira estes tutoriais que usam modelos do <a href=\"https://tfhub.dev\">TensorFlow Hub</a>.\n",
        "\n",
        "Vejas alguns exemplos:\n",
        "\n",
        "- <a href=\"https://tensorflow.org/hub/tutorials/tf2_image_retraining\">Treinar novamente um classificador de imagens</a>: crie um modelo do Keras com base em um classificador de imagens pré-treinado para distinguir flores.\n",
        "- <a href=\"https://tensorflow.org/hub/tutorials/tf2_text_classification\">Classificação de texto</a>: classifique avaliações de filmes do IMDB como <em>positivas</em> ou <em>negativas</em>.\n",
        "- <a href=\"https://tensorflow.org/hub/tutorials/tf2_arbitrary_image_stylization\">Transferência de estilo</a>: use o aprendizado profundo para transferir o estilo entre imagens.\n",
        "- <a href=\"https://tensorflow.org/hub/tutorials/retrieval_with_tf_hub_universal_encoder_qa\">Perguntas e respostas sobre o codificador de frases universais multilíngue</a>: use um modelo de machine learning para responder a perguntas do conjunto de dados SQuAD.\n",
        "- <a href=\"https://tensorflow.org/hub/tutorials/tweening_conv3d\">Interpolação de vídeo</a>: preveja o que aconteceu em um vídeo entre o primeiro e o último frames.\n"
      ]
    }
  ],
  "metadata": {
    "colab": {
      "name": "Como aproveitar ao máximo sua assinatura do Colab",
      "provenance": [],
      "include_colab_link": true
    },
    "kernelspec": {
      "display_name": "Python 3",
      "name": "python3"
    }
  },
  "nbformat": 4,
  "nbformat_minor": 0
}